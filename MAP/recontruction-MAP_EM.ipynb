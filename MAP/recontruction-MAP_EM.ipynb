{
 "cells": [
  {
   "cell_type": "code",
   "execution_count": 93,
   "metadata": {},
   "outputs": [],
   "source": [
    "import numpy as np\n",
    "import struct\n",
    "import matplotlib.pyplot as plt\n",
    "import matplotlib as mpl\n",
    "import rich.progress\n",
    "\n",
    "\n",
    "from rich.progress import (\n",
    "    BarColumn,\n",
    "    DownloadColumn,\n",
    "    Progress,\n",
    "    TaskID,\n",
    "    TextColumn,\n",
    "    TimeRemainingColumn,\n",
    "    TaskProgressColumn,\n",
    ")\n",
    "\n",
    "# Matrix dimension 90*90*32*6*8\n",
    "NImgX_ = 90\n",
    "NImgY_ = 90\n",
    "NDetY_ = 32\n",
    "NModule_ = 6\n",
    "NDetX_ = 8"
   ]
  },
  {
   "cell_type": "code",
   "execution_count": 94,
   "metadata": {},
   "outputs": [
    {
     "data": {
      "text/html": [
       "<pre style=\"white-space:pre;overflow-x:auto;line-height:normal;font-family:Menlo,'DejaVu Sans Mono',consolas,'Courier New',monospace\"></pre>\n"
      ],
      "text/plain": []
     },
     "metadata": {},
     "output_type": "display_data"
    },
    {
     "data": {
      "text/html": [
       "<pre style=\"white-space:pre;overflow-x:auto;line-height:normal;font-family:Menlo,'DejaVu Sans Mono',consolas,'Courier New',monospace\">\n",
       "</pre>\n"
      ],
      "text/plain": [
       "\n"
      ]
     },
     "metadata": {},
     "output_type": "display_data"
    }
   ],
   "source": [
    "# Open the file.\n",
    "inFname = 'sysmat_8layer_Rot_0_of_1_2mmslitin10mm_1010_idxT0_numT1in1mm_IZ0_DZ0_100.sysmat'\n",
    "dataSize = NImgX_*NImgY_*NDetY_*NModule_*NDetX_\n",
    "\n",
    "with rich.progress.open('./input/{:s}'.format(inFname), 'rb') as inF:\n",
    "    # Read in the matrix\n",
    "    dataUnpack = np.asarray(struct.unpack('f'*dataSize, inF.read(dataSize*4)))\n",
    "    # Reshape the 5D array into a 2D matrix\n",
    "    dataMatrix = dataUnpack.reshape((NDetX_ * NModule_*NDetY_, NImgX_*NImgY_))\n",
    "    # inF.close()\n"
   ]
  },
  {
   "cell_type": "code",
   "execution_count": 95,
   "metadata": {},
   "outputs": [
    {
     "name": "stdout",
     "output_type": "stream",
     "text": [
      " Read-in System Matrix Shape:\t(1536, 8100)\n",
      " Reduced System Matrix Shape:\t(864, 8100)\n"
     ]
    }
   ],
   "source": [
    "imgTemplate = np.zeros((NImgX_, NImgY_))\n",
    "print(\"{:>28}:\\t{:}\".format(\"Read-in System Matrix Shape\", dataMatrix.shape))\n",
    "\n",
    "# Remove zero rows from the matrix\n",
    "sysMatrix = dataMatrix[~np.all(dataMatrix == 0, axis=1)]\n",
    "print(\"{:>28}:\\t{:}\".format(\"Reduced System Matrix Shape\", sysMatrix.shape))"
   ]
  },
  {
   "cell_type": "code",
   "execution_count": 96,
   "metadata": {},
   "outputs": [],
   "source": [
    "# Read in the phantom\n",
    "inFname = './input/circle-phantom.npz'\n",
    "dataUnpack = np.load(inFname)\n",
    "dataSize = NImgX_*NImgY_\n",
    "phantom = dataUnpack['arr_0'].reshape((NImgX_, NImgY_))\n",
    "\n"
   ]
  },
  {
   "cell_type": "code",
   "execution_count": 97,
   "metadata": {},
   "outputs": [
    {
     "name": "stdout",
     "output_type": "stream",
     "text": [
      "            Projection Shape:\t(864,)\n"
     ]
    }
   ],
   "source": [
    "# Calculate forward projection\n",
    "projection = np.matmul(sysMatrix, phantom.flatten())\n",
    "print(\"{:>28}:\\t{:}\".format(\"Projection Shape\", projection.shape))\n"
   ]
  },
  {
   "cell_type": "code",
   "execution_count": 98,
   "metadata": {},
   "outputs": [
    {
     "data": {
      "text/html": [
       "<pre style=\"white-space:pre;overflow-x:auto;line-height:normal;font-family:Menlo,'DejaVu Sans Mono',consolas,'Courier New',monospace\">Iterative reconstruction calculation<span style=\"color: #808000; text-decoration-color: #808000\">...</span>\n",
       "</pre>\n"
      ],
      "text/plain": [
       "Iterative reconstruction calculation\u001b[33m...\u001b[0m\n"
      ]
     },
     "metadata": {},
     "output_type": "display_data"
    },
    {
     "data": {
      "text/html": [
       "<pre style=\"white-space:pre;overflow-x:auto;line-height:normal;font-family:Menlo,'DejaVu Sans Mono',consolas,'Courier New',monospace\">0 done\n",
       "</pre>\n"
      ],
      "text/plain": [
       "0 done\n"
      ]
     },
     "metadata": {},
     "output_type": "display_data"
    },
    {
     "data": {
      "text/html": [
       "<pre style=\"white-space:pre;overflow-x:auto;line-height:normal;font-family:Menlo,'DejaVu Sans Mono',consolas,'Courier New',monospace\">100 done\n",
       "</pre>\n"
      ],
      "text/plain": [
       "100 done\n"
      ]
     },
     "metadata": {},
     "output_type": "display_data"
    },
    {
     "data": {
      "text/html": [
       "<pre style=\"white-space:pre;overflow-x:auto;line-height:normal;font-family:Menlo,'DejaVu Sans Mono',consolas,'Courier New',monospace\">200 done\n",
       "</pre>\n"
      ],
      "text/plain": [
       "200 done\n"
      ]
     },
     "metadata": {},
     "output_type": "display_data"
    },
    {
     "data": {
      "text/html": [
       "<pre style=\"white-space:pre;overflow-x:auto;line-height:normal;font-family:Menlo,'DejaVu Sans Mono',consolas,'Courier New',monospace\">300 done\n",
       "</pre>\n"
      ],
      "text/plain": [
       "300 done\n"
      ]
     },
     "metadata": {},
     "output_type": "display_data"
    },
    {
     "data": {
      "text/html": [
       "<pre style=\"white-space:pre;overflow-x:auto;line-height:normal;font-family:Menlo,'DejaVu Sans Mono',consolas,'Courier New',monospace\">400 done\n",
       "</pre>\n"
      ],
      "text/plain": [
       "400 done\n"
      ]
     },
     "metadata": {},
     "output_type": "display_data"
    },
    {
     "data": {
      "text/html": [
       "<pre style=\"white-space:pre;overflow-x:auto;line-height:normal;font-family:Menlo,'DejaVu Sans Mono',consolas,'Courier New',monospace\">500 done\n",
       "</pre>\n"
      ],
      "text/plain": [
       "500 done\n"
      ]
     },
     "metadata": {},
     "output_type": "display_data"
    },
    {
     "data": {
      "text/html": [
       "<pre style=\"white-space:pre;overflow-x:auto;line-height:normal;font-family:Menlo,'DejaVu Sans Mono',consolas,'Courier New',monospace\">600 done\n",
       "</pre>\n"
      ],
      "text/plain": [
       "600 done\n"
      ]
     },
     "metadata": {},
     "output_type": "display_data"
    },
    {
     "data": {
      "text/html": [
       "<pre style=\"white-space:pre;overflow-x:auto;line-height:normal;font-family:Menlo,'DejaVu Sans Mono',consolas,'Courier New',monospace\">700 done\n",
       "</pre>\n"
      ],
      "text/plain": [
       "700 done\n"
      ]
     },
     "metadata": {},
     "output_type": "display_data"
    },
    {
     "data": {
      "text/html": [
       "<pre style=\"white-space:pre;overflow-x:auto;line-height:normal;font-family:Menlo,'DejaVu Sans Mono',consolas,'Courier New',monospace\">800 done\n",
       "</pre>\n"
      ],
      "text/plain": [
       "800 done\n"
      ]
     },
     "metadata": {},
     "output_type": "display_data"
    },
    {
     "data": {
      "text/html": [
       "<pre style=\"white-space:pre;overflow-x:auto;line-height:normal;font-family:Menlo,'DejaVu Sans Mono',consolas,'Courier New',monospace\">900 done\n",
       "</pre>\n"
      ],
      "text/plain": [
       "900 done\n"
      ]
     },
     "metadata": {},
     "output_type": "display_data"
    },
    {
     "data": {
      "text/html": [
       "<pre style=\"white-space:pre;overflow-x:auto;line-height:normal;font-family:Menlo,'DejaVu Sans Mono',consolas,'Courier New',monospace\">1000 done\n",
       "</pre>\n"
      ],
      "text/plain": [
       "1000 done\n"
      ]
     },
     "metadata": {},
     "output_type": "display_data"
    },
    {
     "data": {
      "text/html": [
       "<pre style=\"white-space:pre;overflow-x:auto;line-height:normal;font-family:Menlo,'DejaVu Sans Mono',consolas,'Courier New',monospace\">1100 done\n",
       "</pre>\n"
      ],
      "text/plain": [
       "1100 done\n"
      ]
     },
     "metadata": {},
     "output_type": "display_data"
    },
    {
     "data": {
      "text/html": [
       "<pre style=\"white-space:pre;overflow-x:auto;line-height:normal;font-family:Menlo,'DejaVu Sans Mono',consolas,'Courier New',monospace\">1200 done\n",
       "</pre>\n"
      ],
      "text/plain": [
       "1200 done\n"
      ]
     },
     "metadata": {},
     "output_type": "display_data"
    },
    {
     "data": {
      "text/html": [
       "<pre style=\"white-space:pre;overflow-x:auto;line-height:normal;font-family:Menlo,'DejaVu Sans Mono',consolas,'Courier New',monospace\">1300 done\n",
       "</pre>\n"
      ],
      "text/plain": [
       "1300 done\n"
      ]
     },
     "metadata": {},
     "output_type": "display_data"
    },
    {
     "data": {
      "text/html": [
       "<pre style=\"white-space:pre;overflow-x:auto;line-height:normal;font-family:Menlo,'DejaVu Sans Mono',consolas,'Courier New',monospace\">1400 done\n",
       "</pre>\n"
      ],
      "text/plain": [
       "1400 done\n"
      ]
     },
     "metadata": {},
     "output_type": "display_data"
    },
    {
     "data": {
      "text/html": [
       "<pre style=\"white-space:pre;overflow-x:auto;line-height:normal;font-family:Menlo,'DejaVu Sans Mono',consolas,'Courier New',monospace\">1500 done\n",
       "</pre>\n"
      ],
      "text/plain": [
       "1500 done\n"
      ]
     },
     "metadata": {},
     "output_type": "display_data"
    },
    {
     "data": {
      "text/html": [
       "<pre style=\"white-space:pre;overflow-x:auto;line-height:normal;font-family:Menlo,'DejaVu Sans Mono',consolas,'Courier New',monospace\">1600 done\n",
       "</pre>\n"
      ],
      "text/plain": [
       "1600 done\n"
      ]
     },
     "metadata": {},
     "output_type": "display_data"
    },
    {
     "data": {
      "text/html": [
       "<pre style=\"white-space:pre;overflow-x:auto;line-height:normal;font-family:Menlo,'DejaVu Sans Mono',consolas,'Courier New',monospace\">1700 done\n",
       "</pre>\n"
      ],
      "text/plain": [
       "1700 done\n"
      ]
     },
     "metadata": {},
     "output_type": "display_data"
    },
    {
     "data": {
      "text/html": [
       "<pre style=\"white-space:pre;overflow-x:auto;line-height:normal;font-family:Menlo,'DejaVu Sans Mono',consolas,'Courier New',monospace\">1800 done\n",
       "</pre>\n"
      ],
      "text/plain": [
       "1800 done\n"
      ]
     },
     "metadata": {},
     "output_type": "display_data"
    },
    {
     "data": {
      "text/html": [
       "<pre style=\"white-space:pre;overflow-x:auto;line-height:normal;font-family:Menlo,'DejaVu Sans Mono',consolas,'Courier New',monospace\">1900 done\n",
       "</pre>\n"
      ],
      "text/plain": [
       "1900 done\n"
      ]
     },
     "metadata": {},
     "output_type": "display_data"
    },
    {
     "data": {
      "text/html": [
       "<pre style=\"white-space:pre;overflow-x:auto;line-height:normal;font-family:Menlo,'DejaVu Sans Mono',consolas,'Courier New',monospace\">2000 done\n",
       "</pre>\n"
      ],
      "text/plain": [
       "2000 done\n"
      ]
     },
     "metadata": {},
     "output_type": "display_data"
    },
    {
     "data": {
      "text/html": [
       "<pre style=\"white-space:pre;overflow-x:auto;line-height:normal;font-family:Menlo,'DejaVu Sans Mono',consolas,'Courier New',monospace\">2100 done\n",
       "</pre>\n"
      ],
      "text/plain": [
       "2100 done\n"
      ]
     },
     "metadata": {},
     "output_type": "display_data"
    },
    {
     "data": {
      "text/html": [
       "<pre style=\"white-space:pre;overflow-x:auto;line-height:normal;font-family:Menlo,'DejaVu Sans Mono',consolas,'Courier New',monospace\">2200 done\n",
       "</pre>\n"
      ],
      "text/plain": [
       "2200 done\n"
      ]
     },
     "metadata": {},
     "output_type": "display_data"
    },
    {
     "data": {
      "text/html": [
       "<pre style=\"white-space:pre;overflow-x:auto;line-height:normal;font-family:Menlo,'DejaVu Sans Mono',consolas,'Courier New',monospace\">2300 done\n",
       "</pre>\n"
      ],
      "text/plain": [
       "2300 done\n"
      ]
     },
     "metadata": {},
     "output_type": "display_data"
    },
    {
     "data": {
      "text/html": [
       "<pre style=\"white-space:pre;overflow-x:auto;line-height:normal;font-family:Menlo,'DejaVu Sans Mono',consolas,'Courier New',monospace\">2400 done\n",
       "</pre>\n"
      ],
      "text/plain": [
       "2400 done\n"
      ]
     },
     "metadata": {},
     "output_type": "display_data"
    },
    {
     "data": {
      "text/html": [
       "<pre style=\"white-space:pre;overflow-x:auto;line-height:normal;font-family:Menlo,'DejaVu Sans Mono',consolas,'Courier New',monospace\">2500 done\n",
       "</pre>\n"
      ],
      "text/plain": [
       "2500 done\n"
      ]
     },
     "metadata": {},
     "output_type": "display_data"
    },
    {
     "data": {
      "text/html": [
       "<pre style=\"white-space:pre;overflow-x:auto;line-height:normal;font-family:Menlo,'DejaVu Sans Mono',consolas,'Courier New',monospace\">2600 done\n",
       "</pre>\n"
      ],
      "text/plain": [
       "2600 done\n"
      ]
     },
     "metadata": {},
     "output_type": "display_data"
    },
    {
     "data": {
      "text/html": [
       "<pre style=\"white-space:pre;overflow-x:auto;line-height:normal;font-family:Menlo,'DejaVu Sans Mono',consolas,'Courier New',monospace\">2700 done\n",
       "</pre>\n"
      ],
      "text/plain": [
       "2700 done\n"
      ]
     },
     "metadata": {},
     "output_type": "display_data"
    },
    {
     "data": {
      "text/html": [
       "<pre style=\"white-space:pre;overflow-x:auto;line-height:normal;font-family:Menlo,'DejaVu Sans Mono',consolas,'Courier New',monospace\">2800 done\n",
       "</pre>\n"
      ],
      "text/plain": [
       "2800 done\n"
      ]
     },
     "metadata": {},
     "output_type": "display_data"
    },
    {
     "data": {
      "text/html": [
       "<pre style=\"white-space:pre;overflow-x:auto;line-height:normal;font-family:Menlo,'DejaVu Sans Mono',consolas,'Courier New',monospace\">2900 done\n",
       "</pre>\n"
      ],
      "text/plain": [
       "2900 done\n"
      ]
     },
     "metadata": {},
     "output_type": "display_data"
    },
    {
     "data": {
      "text/html": [
       "<pre style=\"white-space:pre;overflow-x:auto;line-height:normal;font-family:Menlo,'DejaVu Sans Mono',consolas,'Courier New',monospace\">3000 done\n",
       "</pre>\n"
      ],
      "text/plain": [
       "3000 done\n"
      ]
     },
     "metadata": {},
     "output_type": "display_data"
    },
    {
     "data": {
      "text/html": [
       "<pre style=\"white-space:pre;overflow-x:auto;line-height:normal;font-family:Menlo,'DejaVu Sans Mono',consolas,'Courier New',monospace\">3100 done\n",
       "</pre>\n"
      ],
      "text/plain": [
       "3100 done\n"
      ]
     },
     "metadata": {},
     "output_type": "display_data"
    },
    {
     "data": {
      "text/html": [
       "<pre style=\"white-space:pre;overflow-x:auto;line-height:normal;font-family:Menlo,'DejaVu Sans Mono',consolas,'Courier New',monospace\">3200 done\n",
       "</pre>\n"
      ],
      "text/plain": [
       "3200 done\n"
      ]
     },
     "metadata": {},
     "output_type": "display_data"
    },
    {
     "data": {
      "text/html": [
       "<pre style=\"white-space:pre;overflow-x:auto;line-height:normal;font-family:Menlo,'DejaVu Sans Mono',consolas,'Courier New',monospace\">3300 done\n",
       "</pre>\n"
      ],
      "text/plain": [
       "3300 done\n"
      ]
     },
     "metadata": {},
     "output_type": "display_data"
    },
    {
     "data": {
      "text/html": [
       "<pre style=\"white-space:pre;overflow-x:auto;line-height:normal;font-family:Menlo,'DejaVu Sans Mono',consolas,'Courier New',monospace\">3400 done\n",
       "</pre>\n"
      ],
      "text/plain": [
       "3400 done\n"
      ]
     },
     "metadata": {},
     "output_type": "display_data"
    },
    {
     "data": {
      "text/html": [
       "<pre style=\"white-space:pre;overflow-x:auto;line-height:normal;font-family:Menlo,'DejaVu Sans Mono',consolas,'Courier New',monospace\">3500 done\n",
       "</pre>\n"
      ],
      "text/plain": [
       "3500 done\n"
      ]
     },
     "metadata": {},
     "output_type": "display_data"
    },
    {
     "data": {
      "text/html": [
       "<pre style=\"white-space:pre;overflow-x:auto;line-height:normal;font-family:Menlo,'DejaVu Sans Mono',consolas,'Courier New',monospace\">3600 done\n",
       "</pre>\n"
      ],
      "text/plain": [
       "3600 done\n"
      ]
     },
     "metadata": {},
     "output_type": "display_data"
    },
    {
     "data": {
      "text/html": [
       "<pre style=\"white-space:pre;overflow-x:auto;line-height:normal;font-family:Menlo,'DejaVu Sans Mono',consolas,'Courier New',monospace\">3700 done\n",
       "</pre>\n"
      ],
      "text/plain": [
       "3700 done\n"
      ]
     },
     "metadata": {},
     "output_type": "display_data"
    },
    {
     "data": {
      "text/html": [
       "<pre style=\"white-space:pre;overflow-x:auto;line-height:normal;font-family:Menlo,'DejaVu Sans Mono',consolas,'Courier New',monospace\">3800 done\n",
       "</pre>\n"
      ],
      "text/plain": [
       "3800 done\n"
      ]
     },
     "metadata": {},
     "output_type": "display_data"
    },
    {
     "data": {
      "text/html": [
       "<pre style=\"white-space:pre;overflow-x:auto;line-height:normal;font-family:Menlo,'DejaVu Sans Mono',consolas,'Courier New',monospace\">3900 done\n",
       "</pre>\n"
      ],
      "text/plain": [
       "3900 done\n"
      ]
     },
     "metadata": {},
     "output_type": "display_data"
    },
    {
     "data": {
      "text/html": [
       "<pre style=\"white-space:pre;overflow-x:auto;line-height:normal;font-family:Menlo,'DejaVu Sans Mono',consolas,'Courier New',monospace\">4000 done\n",
       "</pre>\n"
      ],
      "text/plain": [
       "4000 done\n"
      ]
     },
     "metadata": {},
     "output_type": "display_data"
    },
    {
     "data": {
      "text/html": [
       "<pre style=\"white-space:pre;overflow-x:auto;line-height:normal;font-family:Menlo,'DejaVu Sans Mono',consolas,'Courier New',monospace\">4100 done\n",
       "</pre>\n"
      ],
      "text/plain": [
       "4100 done\n"
      ]
     },
     "metadata": {},
     "output_type": "display_data"
    },
    {
     "data": {
      "text/html": [
       "<pre style=\"white-space:pre;overflow-x:auto;line-height:normal;font-family:Menlo,'DejaVu Sans Mono',consolas,'Courier New',monospace\">4200 done\n",
       "</pre>\n"
      ],
      "text/plain": [
       "4200 done\n"
      ]
     },
     "metadata": {},
     "output_type": "display_data"
    },
    {
     "data": {
      "text/html": [
       "<pre style=\"white-space:pre;overflow-x:auto;line-height:normal;font-family:Menlo,'DejaVu Sans Mono',consolas,'Courier New',monospace\">4300 done\n",
       "</pre>\n"
      ],
      "text/plain": [
       "4300 done\n"
      ]
     },
     "metadata": {},
     "output_type": "display_data"
    },
    {
     "data": {
      "text/html": [
       "<pre style=\"white-space:pre;overflow-x:auto;line-height:normal;font-family:Menlo,'DejaVu Sans Mono',consolas,'Courier New',monospace\">4400 done\n",
       "</pre>\n"
      ],
      "text/plain": [
       "4400 done\n"
      ]
     },
     "metadata": {},
     "output_type": "display_data"
    },
    {
     "data": {
      "text/html": [
       "<pre style=\"white-space:pre;overflow-x:auto;line-height:normal;font-family:Menlo,'DejaVu Sans Mono',consolas,'Courier New',monospace\">4500 done\n",
       "</pre>\n"
      ],
      "text/plain": [
       "4500 done\n"
      ]
     },
     "metadata": {},
     "output_type": "display_data"
    },
    {
     "data": {
      "text/html": [
       "<pre style=\"white-space:pre;overflow-x:auto;line-height:normal;font-family:Menlo,'DejaVu Sans Mono',consolas,'Courier New',monospace\">4600 done\n",
       "</pre>\n"
      ],
      "text/plain": [
       "4600 done\n"
      ]
     },
     "metadata": {},
     "output_type": "display_data"
    },
    {
     "data": {
      "text/html": [
       "<pre style=\"white-space:pre;overflow-x:auto;line-height:normal;font-family:Menlo,'DejaVu Sans Mono',consolas,'Courier New',monospace\">4700 done\n",
       "</pre>\n"
      ],
      "text/plain": [
       "4700 done\n"
      ]
     },
     "metadata": {},
     "output_type": "display_data"
    },
    {
     "data": {
      "text/html": [
       "<pre style=\"white-space:pre;overflow-x:auto;line-height:normal;font-family:Menlo,'DejaVu Sans Mono',consolas,'Courier New',monospace\">4800 done\n",
       "</pre>\n"
      ],
      "text/plain": [
       "4800 done\n"
      ]
     },
     "metadata": {},
     "output_type": "display_data"
    },
    {
     "data": {
      "text/html": [
       "<pre style=\"white-space:pre;overflow-x:auto;line-height:normal;font-family:Menlo,'DejaVu Sans Mono',consolas,'Courier New',monospace\">4900 done\n",
       "</pre>\n"
      ],
      "text/plain": [
       "4900 done\n"
      ]
     },
     "metadata": {},
     "output_type": "display_data"
    },
    {
     "data": {
      "text/html": [
       "<pre style=\"white-space:pre;overflow-x:auto;line-height:normal;font-family:Menlo,'DejaVu Sans Mono',consolas,'Courier New',monospace\"></pre>\n"
      ],
      "text/plain": []
     },
     "metadata": {},
     "output_type": "display_data"
    },
    {
     "data": {
      "text/html": [
       "<pre style=\"white-space:pre;overflow-x:auto;line-height:normal;font-family:Menlo,'DejaVu Sans Mono',consolas,'Courier New',monospace\">\n",
       "</pre>\n"
      ],
      "text/plain": [
       "\n"
      ]
     },
     "metadata": {},
     "output_type": "display_data"
    }
   ],
   "source": [
    "\n",
    "# Implementation of Maximum-A-Priori Expectation-Maximization (MAP-EM) algorithm.\n",
    "\n",
    "NIteration = 5000\n",
    "reconImg = np.ones(NImgX_*NImgY_)\n",
    "sampleRate_ = 0.1\n",
    "totalSample = int(NIteration*sampleRate_)\n",
    "myFrames = np.zeros((totalSample, NImgX_, NImgY_))\n",
    "beta = 0.01 # weight or smoothening factor\n",
    "\n",
    "\n",
    "def backwardProj(reconImg, projection, sysMatrix):\n",
    "    forwardLast = np.matmul(sysMatrix, reconImg)\n",
    "    quotients = projection/forwardLast\n",
    "    numerator = np.matmul(quotients, sysMatrix)\n",
    "    denominator = np.sum(sysMatrix, axis=0)\n",
    "\n",
    "\n",
    "    n, m = NImgX_, NImgY_\n",
    "    reconImg = reconImg.reshape((NImgX_, NImgY_))\n",
    "    potential_function_derivative = np.zeros_like(reconImg, dtype=np.float32)\n",
    "    \n",
    "    for i in range(1, n-1):\n",
    "        for j in range(1, m-1):\n",
    "            \n",
    "            # finding the median of a 3x3 submatrix centered at (i,j)\n",
    "            _3x3_mask = reconImg[i-1:i+2, j-1:j+2]\n",
    "            median = np.median(_3x3_mask)\n",
    "            \n",
    "            # calculate the potential function's derivative using median method\n",
    "            if median != 0:\n",
    "                potential_function_derivative[i][j] = beta * (reconImg[i][j] - median)/median\n",
    "\n",
    "\n",
    "    reconImg = reconImg.flatten()\n",
    "    denominator = denominator + potential_function_derivative.flatten()\n",
    "    \n",
    "    return numerator/denominator * reconImg\n",
    "\n",
    "\n",
    "\n",
    "progress = Progress(\n",
    "    TextColumn(\"[progress.description]{task.description}\"),\n",
    "    BarColumn(),\n",
    "    # TaskProgressColumn(),\n",
    "    \"{task.completed}/{task.total}\",\n",
    "    TimeRemainingColumn(),\n",
    ")\n",
    "\n",
    "\n",
    "# Back Propogation iterations\n",
    "img_frames = []\n",
    "with progress:\n",
    "    progress.console.print(\"Iterative reconstruction calculation...\")\n",
    "    task1 = progress.add_task(\"Iteration:\", total=NIteration)\n",
    "    \n",
    "    for iter in range(NIteration):\n",
    "        reconImg = backwardProj(reconImg, projection, sysMatrix)\n",
    "\n",
    "        # storing it in a 2d matrix form\n",
    "        img_frames.append(reconImg.reshape((NImgX_, NImgY_)))\n",
    "\n",
    "        progress.advance(task1)\n",
    "        if iter % 500 == 0:\n",
    "            print(iter, \"Iteration done\")\n",
    "\n"
   ]
  },
  {
   "cell_type": "code",
   "execution_count": 100,
   "metadata": {},
   "outputs": [
    {
     "data": {
      "text/plain": [
       "<matplotlib.colorbar.Colorbar at 0x2203a122ac0>"
      ]
     },
     "execution_count": 100,
     "metadata": {},
     "output_type": "execute_result"
    },
    {
     "data": {
      "image/png": "[encoded data removed]",
      "text/plain": [
       "<Figure size 4800x3600 with 2 Axes>"
      ]
     },
     "metadata": {},
     "output_type": "display_data"
    }
   ],
   "source": [
    "# Plot the image of the last iteration (last entry in myFram)\n",
    "\n",
    "plt.rcParams[\"figure.figsize\"] = (16,12)\n",
    "plt.rcParams[\"figure.dpi\"] = 300\n",
    "fig, ax = plt.subplots()\n",
    "imshow_obj=ax.imshow(myFrames[-1], cmap=mpl.colormaps['turbo'],origin='lower')\n",
    "fig.colorbar(imshow_obj, ax=ax)"
   ]
  }
 ],
 "metadata": {
  "kernelspec": {
   "display_name": "Python 3",
   "language": "python",
   "name": "python3"
  },
  "language_info": {
   "codemirror_mode": {
    "name": "ipython",
    "version": 3
   },
   "file_extension": ".py",
   "mimetype": "text/x-python",
   "name": "python",
   "nbconvert_exporter": "python",
   "pygments_lexer": "ipython3",
   "version": "3.8.5"
  },
  "orig_nbformat": 4
 },
 "nbformat": 4,
 "nbformat_minor": 2
}
